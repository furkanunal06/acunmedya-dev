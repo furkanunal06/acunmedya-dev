{
 "cells": [
  {
   "cell_type": "code",
   "execution_count": 4,
   "id": "b1bf0c46-74ed-4b32-ad8a-3f6ff1cd4ec7",
   "metadata": {},
   "outputs": [
    {
     "name": "stdout",
     "output_type": "stream",
     "text": [
      "Python 3.12.9\n",
      "pip 25.1.1 from C:\\Users\\ev\\miniconda3\\Lib\\site-packages\\pip (python 3.12)\n",
      "\n"
     ]
    }
   ],
   "source": [
    "!python --version   # veya !python3 --version\n",
    "!pip --version      # veya !pip3 --version\n",
    "\n"
   ]
  },
  {
   "cell_type": "code",
   "execution_count": 5,
   "id": "962577fa-ae1b-46e5-b9bc-9a5fbf10bec1",
   "metadata": {},
   "outputs": [
    {
     "name": "stdout",
     "output_type": "stream",
     "text": [
      "Requirement already satisfied: pyshorteners in c:\\users\\ev\\miniconda3\\lib\\site-packages (1.0.1)\n",
      "Requirement already satisfied: requests in c:\\users\\ev\\miniconda3\\lib\\site-packages (from pyshorteners) (2.32.3)\n",
      "Requirement already satisfied: charset-normalizer<4,>=2 in c:\\users\\ev\\miniconda3\\lib\\site-packages (from requests->pyshorteners) (3.3.2)\n",
      "Requirement already satisfied: idna<4,>=2.5 in c:\\users\\ev\\miniconda3\\lib\\site-packages (from requests->pyshorteners) (3.7)\n",
      "Requirement already satisfied: urllib3<3,>=1.21.1 in c:\\users\\ev\\miniconda3\\lib\\site-packages (from requests->pyshorteners) (2.3.0)\n",
      "Requirement already satisfied: certifi>=2017.4.17 in c:\\users\\ev\\miniconda3\\lib\\site-packages (from requests->pyshorteners) (2025.1.31)\n"
     ]
    },
    {
     "name": "stderr",
     "output_type": "stream",
     "text": [
      "\n",
      "[notice] A new release of pip is available: 25.1.1 -> 25.2\n",
      "[notice] To update, run: python.exe -m pip install --upgrade pip\n"
     ]
    }
   ],
   "source": [
    "!pip install  pyshorteners"
   ]
  },
  {
   "cell_type": "code",
   "execution_count": 9,
   "id": "0c4edb5e-7a83-4bd3-b62c-aa2bb5652759",
   "metadata": {},
   "outputs": [],
   "source": [
    "import  pyshorteners as sh"
   ]
  },
  {
   "cell_type": "code",
   "execution_count": 10,
   "id": "7f2c58e3-517c-4f6e-be42-df2aebd0f1c1",
   "metadata": {},
   "outputs": [
    {
     "name": "stdout",
     "output_type": "stream",
     "text": [
      "https://tinyurl.com/29std8tb\n"
     ]
    }
   ],
   "source": [
    "Link = \"https://www.youtube.com/shorts/wMQ8-HqbU3w\"\n",
    "s = sh.Shortener()\n",
    "b = s.tinyurl.short(Link)\n",
    "print(b)"
   ]
  },
  {
   "cell_type": "code",
   "execution_count": null,
   "id": "58e53c3e-31a8-410c-8e15-30ed368b074f",
   "metadata": {},
   "outputs": [],
   "source": []
  }
 ],
 "metadata": {
  "kernelspec": {
   "display_name": "Python 3 (ipykernel)",
   "language": "python",
   "name": "python3"
  },
  "language_info": {
   "codemirror_mode": {
    "name": "ipython",
    "version": 3
   },
   "file_extension": ".py",
   "mimetype": "text/x-python",
   "name": "python",
   "nbconvert_exporter": "python",
   "pygments_lexer": "ipython3",
   "version": "3.12.9"
  }
 },
 "nbformat": 4,
 "nbformat_minor": 5
}
